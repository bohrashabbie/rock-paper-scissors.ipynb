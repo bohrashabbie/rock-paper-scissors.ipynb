{
 "cells": [
  {
   "cell_type": "code",
   "execution_count": 9,
   "metadata": {},
   "outputs": [],
   "source": [
    "import random\n",
    "lst = ['rock' , 'paper' , 'scissors']\n",
    "def user_input():\n",
    "    player_1 = input(\"Enter your choice\").lower()\n",
    "    if user_input in lst:\n",
    "        return user_input\n",
    "    else:\n",
    "        print(\"invalid choice.. try again\")\n",
    "        \n",
    "def get_computer_choice():\n",
    "          return random.choice.lst\n",
    "      \n",
    "      \n",
    "def get_winner(player_1 , player_2):\n",
    "    if player_1 == player_2:\n",
    "        return \"its a tie match\"\n",
    "    elif player_1 == \"rock\":\n",
    "        if player_2 == \"scissor\":\n",
    "            print(player_1 , \"win\")\n",
    "        else:\n",
    "            print(player_2 , \"win\")\n",
    "        \n",
    "    elif player_1 == 'scissors':\n",
    "        if player_2 =='paper':\n",
    "            print(player_1,\"win\")\n",
    "        else:\n",
    "            print(player_2 , \"win\")\n",
    "    else:\n",
    "        print(\"its a tie match\")\n",
    "                    \n",
    "    while True:\n",
    "            player_1 = user_input()\n",
    "            player_2 = get_computer_choice()\n",
    "            \n",
    "            \n",
    "            print(\"player_1 choice\" , player_1)\n",
    "            print(\"player_2 choice\" , player_2)\n",
    "            \n",
    "            \n",
    "            result = get_winner(player_1 , player_2)\n",
    "            print(result)\n",
    "            \n",
    "            play_more = input(\"want to play more?\").lower()\n",
    "            if play_more != 'yes':\n",
    "                print(\"thanks for playing\")\n",
    "                break\n",
    "            \n",
    "            "
   ]
  },
  {
   "cell_type": "code",
   "execution_count": null,
   "metadata": {},
   "outputs": [],
   "source": []
  }
 ],
 "metadata": {
  "kernelspec": {
   "display_name": "Python 3",
   "language": "python",
   "name": "python3"
  },
  "language_info": {
   "codemirror_mode": {
    "name": "ipython",
    "version": 3
   },
   "file_extension": ".py",
   "mimetype": "text/x-python",
   "name": "python",
   "nbconvert_exporter": "python",
   "pygments_lexer": "ipython3",
   "version": "3.10.11"
  }
 },
 "nbformat": 4,
 "nbformat_minor": 2
}
